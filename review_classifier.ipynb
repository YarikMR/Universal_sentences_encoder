{
 "cells": [
  {
   "cell_type": "code",
   "execution_count": 7,
   "metadata": {},
   "outputs": [],
   "source": [
    "import pandas as pd\n",
    "import numpy as np\n",
    "import tensorflow as tf\n",
    "import tensorflow_hub as hub\n",
    "import json\n",
    "from os import listdir\n",
    "from os.path import join\n",
    "from sklearn.model_selection import train_test_split\n",
    "from sklearn.linear_model import LogisticRegression\n",
    "from sklearn.metrics import confusion_matrix, f1_score\n",
    "from xgboost import XGBClassifier\n",
    "from sklearn.metrics.pairwise import cosine_similarity"
   ]
  },
  {
   "cell_type": "markdown",
   "metadata": {},
   "source": [
    "# Load data & Sentence embeddings\n",
    "\n",
    "You can get model on https://tfhub.dev/google/universal-sentence-encoder/1"
   ]
  },
  {
   "cell_type": "code",
   "execution_count": 3,
   "metadata": {},
   "outputs": [
    {
     "name": "stdout",
     "output_type": "stream",
     "text": [
      "WARNING:tensorflow:From /home/yarik/anaconda3/envs/textai/lib/python3.6/site-packages/tensorflow/python/ops/control_flow_ops.py:3632: colocate_with (from tensorflow.python.framework.ops) is deprecated and will be removed in a future version.\n",
      "Instructions for updating:\n",
      "Colocations handled automatically by placer.\n"
     ]
    },
    {
     "name": "stderr",
     "output_type": "stream",
     "text": [
      "W1007 21:38:39.044237 139858999334720 deprecation.py:323] From /home/yarik/anaconda3/envs/textai/lib/python3.6/site-packages/tensorflow/python/ops/control_flow_ops.py:3632: colocate_with (from tensorflow.python.framework.ops) is deprecated and will be removed in a future version.\n",
      "Instructions for updating:\n",
      "Colocations handled automatically by placer.\n"
     ]
    }
   ],
   "source": [
    "embed = hub.Module(\"/home/yarik/Documents/Python/Emotions/embedding_model\")"
   ]
  },
  {
   "cell_type": "code",
   "execution_count": 4,
   "metadata": {},
   "outputs": [],
   "source": [
    "def get_embeddings(sentences):\n",
    "    tf.logging.set_verbosity(tf.logging.ERROR)\n",
    "    with tf.Session() as session:\n",
    "        session.run([tf.global_variables_initializer(), tf.tables_initializer()])\n",
    "        return session.run(embed(sentences))"
   ]
  },
  {
   "cell_type": "markdown",
   "metadata": {},
   "source": [
    "# Amazon data set\n",
    "link: http://jmcauley.ucsd.edu/data/amazon/\n",
    "Selected categories for the example cell phones and accessories, electronics, video games, office products, clothing"
   ]
  },
  {
   "cell_type": "code",
   "execution_count": 65,
   "metadata": {},
   "outputs": [],
   "source": [
    "categories_names = {'reviews_Cell_Phones_and_Accessories_5.json':'phone_accessories',\n",
    "                    'reviews_Electronics_5.json':'electronics',\n",
    "                    'reviews_Video_Games_5.json': 'video_games',\n",
    "                    'reviews_Clothing_Shoes_and_Jewelry_5.json':'cloth',\n",
    "                    'reviews_Office_Products_5.json':'office_products'}\n",
    "reviews = pd.DataFrame()\n",
    "\n",
    "for file in listdir('/home/yarik/Documents/Data/Amazon_reviews'):\n",
    "    with open(join('/home/yarik/Documents/Data/Amazon_reviews',file)) as json_file:\n",
    "        file_data = pd.DataFrame.from_records(map(json.loads,json_file.readlines()),nrows=10000)\n",
    "    file_data['category'] = [categories_names[file]] * len(file_data)\n",
    "    \n",
    "    reviews = pd.concat([file_data[['summary','category']], reviews],ignore_index=True)"
   ]
  },
  {
   "cell_type": "code",
   "execution_count": 10,
   "metadata": {},
   "outputs": [],
   "source": [
    "sample_sentences = [\"how old are you?\", \"what is your age?\", \"my phone doesn't work\", \"my phone is destroy\"]"
   ]
  },
  {
   "cell_type": "code",
   "execution_count": 11,
   "metadata": {},
   "outputs": [],
   "source": [
    "sample_embeddings = get_embeddings(sample_sentences)"
   ]
  },
  {
   "cell_type": "code",
   "execution_count": 12,
   "metadata": {},
   "outputs": [],
   "source": [
    "similarity = cosine_similarity(sample_embeddings)"
   ]
  },
  {
   "cell_type": "code",
   "execution_count": 13,
   "metadata": {},
   "outputs": [
    {
     "data": {
      "text/plain": [
       "array([[0.9999997 , 0.90705013, 0.0515891 , 0.05542911],\n",
       "       [0.90705013, 1.0000006 , 0.06356009, 0.07294559],\n",
       "       [0.0515891 , 0.06356009, 1.        , 0.82998157],\n",
       "       [0.05542911, 0.07294559, 0.82998157, 1.        ]], dtype=float32)"
      ]
     },
     "execution_count": 13,
     "metadata": {},
     "output_type": "execute_result"
    }
   ],
   "source": [
    "similarity"
   ]
  },
  {
   "cell_type": "markdown",
   "metadata": {},
   "source": [
    "# split train and test"
   ]
  },
  {
   "cell_type": "code",
   "execution_count": 67,
   "metadata": {},
   "outputs": [
    {
     "data": {
      "text/plain": [
       "(50000, 2)"
      ]
     },
     "execution_count": 67,
     "metadata": {},
     "output_type": "execute_result"
    }
   ],
   "source": [
    "reviews.shape"
   ]
  },
  {
   "cell_type": "code",
   "execution_count": 68,
   "metadata": {},
   "outputs": [],
   "source": [
    "train, test = train_test_split(reviews, test_size=0.2)"
   ]
  },
  {
   "cell_type": "code",
   "execution_count": 69,
   "metadata": {},
   "outputs": [
    {
     "data": {
      "text/plain": [
       "<matplotlib.axes._subplots.AxesSubplot at 0x7fbdc9ab6d68>"
      ]
     },
     "execution_count": 69,
     "metadata": {},
     "output_type": "execute_result"
    },
    {
     "data": {
      "image/png": "[encoded data removed]",
      "text/plain": [
       "<Figure size 432x288 with 1 Axes>"
      ]
     },
     "metadata": {
      "needs_background": "light"
     },
     "output_type": "display_data"
    }
   ],
   "source": [
    "train['category'].hist()"
   ]
  },
  {
   "cell_type": "markdown",
   "metadata": {},
   "source": [
    "# Vector space representation"
   ]
  },
  {
   "cell_type": "code",
   "execution_count": 70,
   "metadata": {},
   "outputs": [],
   "source": [
    "train_vectors = get_embeddings(train.summary.apply(str).to_list())"
   ]
  },
  {
   "cell_type": "code",
   "execution_count": 71,
   "metadata": {},
   "outputs": [],
   "source": [
    "test_vectors = get_embeddings(test.summary.apply(str).to_list())"
   ]
  },
  {
   "cell_type": "code",
   "execution_count": 72,
   "metadata": {},
   "outputs": [
    {
     "data": {
      "text/plain": [
       "(40000, 512)"
      ]
     },
     "execution_count": 72,
     "metadata": {},
     "output_type": "execute_result"
    }
   ],
   "source": [
    "train_vectors.shape"
   ]
  },
  {
   "cell_type": "markdown",
   "metadata": {},
   "source": [
    "# Classifier\n",
    "## LR"
   ]
  },
  {
   "cell_type": "code",
   "execution_count": 73,
   "metadata": {},
   "outputs": [
    {
     "name": "stderr",
     "output_type": "stream",
     "text": [
      "/home/yarik/anaconda3/envs/textai/lib/python3.6/site-packages/sklearn/linear_model/logistic.py:947: ConvergenceWarning: lbfgs failed to converge. Increase the number of iterations.\n",
      "  \"of iterations.\", ConvergenceWarning)\n"
     ]
    }
   ],
   "source": [
    "clf = LogisticRegression(random_state=0,\n",
    "                         multi_class='multinomial',\n",
    "                         solver='lbfgs').fit(train_vectors, train['category'])"
   ]
  },
  {
   "cell_type": "code",
   "execution_count": 74,
   "metadata": {},
   "outputs": [
    {
     "data": {
      "text/plain": [
       "(array([[1451,  155,  164,  216,   85],\n",
       "        [ 134, 1025,  244,  394,   92],\n",
       "        [ 134,  270, 1248,  198,   47],\n",
       "        [ 171,  431,  201, 1141,  104],\n",
       "        [ 108,  127,   80,  114, 1666]]), 0.6549699313112824)"
      ]
     },
     "execution_count": 74,
     "metadata": {},
     "output_type": "execute_result"
    }
   ],
   "source": [
    "LR_predictions = clf.predict(test_vectors)\n",
    "confusion_matrix(LR_predictions, test['category']),f1_score(LR_predictions, test['category'], average=\"weighted\")"
   ]
  },
  {
   "cell_type": "markdown",
   "metadata": {},
   "source": [
    "# XGBoost"
   ]
  },
  {
   "cell_type": "code",
   "execution_count": 77,
   "metadata": {},
   "outputs": [],
   "source": [
    "clf_xgboost = XGBClassifier(max_depth=10,\n",
    "                              n_jobs=8,\n",
    "                              n_estimators=200,\n",
    "                              objective='multi:softmax').fit(train_vectors, train['category'])"
   ]
  },
  {
   "cell_type": "code",
   "execution_count": 78,
   "metadata": {},
   "outputs": [],
   "source": [
    "Xgboost_predictions = clf_xgboost.predict(test_vectors)"
   ]
  },
  {
   "cell_type": "code",
   "execution_count": 79,
   "metadata": {},
   "outputs": [
    {
     "data": {
      "text/plain": [
       "(array([[1480,  162,  149,  204,   75],\n",
       "        [ 129, 1128,  260,  434,  109],\n",
       "        [ 141,  235, 1268,  158,   63],\n",
       "        [ 154,  377,  204, 1176,  110],\n",
       "        [  94,  106,   56,   91, 1637]]), 0.6689391785689278)"
      ]
     },
     "execution_count": 79,
     "metadata": {},
     "output_type": "execute_result"
    }
   ],
   "source": [
    "confusion_matrix(Xgboost_predictions, test['category']),f1_score(Xgboost_predictions,\n",
    "                                                                 test['category'],\n",
    "                                                                 average=\"weighted\")"
   ]
  },
  {
   "cell_type": "markdown",
   "metadata": {},
   "source": [
    "# Neural Network"
   ]
  },
  {
   "cell_type": "code",
   "execution_count": 80,
   "metadata": {},
   "outputs": [
    {
     "name": "stderr",
     "output_type": "stream",
     "text": [
      "Using TensorFlow backend.\n"
     ]
    }
   ],
   "source": [
    "from keras.layers import Dense,Dropout\n",
    "from keras.models import Sequential\n",
    "from keras.utils import to_categorical"
   ]
  },
  {
   "cell_type": "code",
   "execution_count": 82,
   "metadata": {},
   "outputs": [],
   "source": [
    "def encond_labels(pd_serie,dic_label):\n",
    "    dic_label = pd_serie.replace(dic_label)\n",
    "    return to_categorical(dic_label,dtype='int')\n",
    "\n",
    "dic_enconde = {word:index for index,word in enumerate((test['category'].unique()))}"
   ]
  },
  {
   "cell_type": "code",
   "execution_count": 84,
   "metadata": {},
   "outputs": [],
   "source": [
    "#Encode y_train & y_test\n",
    "y_train_encode = encond_labels(train['category'],dic_enconde)\n",
    "y_test_encode = encond_labels(test['category'],dic_enconde)"
   ]
  },
  {
   "cell_type": "code",
   "execution_count": 88,
   "metadata": {},
   "outputs": [],
   "source": [
    "input_dim = len(train_vectors[0])\n",
    "output_dim = len(y_test_encode[0])"
   ]
  },
  {
   "cell_type": "code",
   "execution_count": 89,
   "metadata": {},
   "outputs": [
    {
     "name": "stdout",
     "output_type": "stream",
     "text": [
      "_________________________________________________________________\n",
      "Layer (type)                 Output Shape              Param #   \n",
      "=================================================================\n",
      "dense_1 (Dense)              (None, 512)               262656    \n",
      "_________________________________________________________________\n",
      "dropout_1 (Dropout)          (None, 512)               0         \n",
      "_________________________________________________________________\n",
      "dense_2 (Dense)              (None, 600)               307800    \n",
      "_________________________________________________________________\n",
      "dropout_2 (Dropout)          (None, 600)               0         \n",
      "_________________________________________________________________\n",
      "dense_3 (Dense)              (None, 300)               180300    \n",
      "_________________________________________________________________\n",
      "dense_4 (Dense)              (None, 5)                 1505      \n",
      "=================================================================\n",
      "Total params: 752,261\n",
      "Trainable params: 752,261\n",
      "Non-trainable params: 0\n",
      "_________________________________________________________________\n",
      "Train on 36000 samples, validate on 4000 samples\n",
      "Epoch 1/30\n",
      "36000/36000 [==============================] - 5s 129us/step - loss: 1.1065 - acc: 0.5605 - val_loss: 0.8900 - val_acc: 0.6353\n",
      "Epoch 2/30\n",
      "36000/36000 [==============================] - 1s 36us/step - loss: 0.8649 - acc: 0.6455 - val_loss: 0.8647 - val_acc: 0.6460\n",
      "Epoch 3/30\n",
      "36000/36000 [==============================] - 1s 37us/step - loss: 0.8365 - acc: 0.6571 - val_loss: 0.8584 - val_acc: 0.6462\n",
      "Epoch 4/30\n",
      "36000/36000 [==============================] - 1s 36us/step - loss: 0.8214 - acc: 0.6632 - val_loss: 0.8518 - val_acc: 0.6483\n",
      "Epoch 5/30\n",
      "36000/36000 [==============================] - 1s 39us/step - loss: 0.8070 - acc: 0.6724 - val_loss: 0.8436 - val_acc: 0.6542\n",
      "Epoch 6/30\n",
      "36000/36000 [==============================] - 1s 37us/step - loss: 0.7934 - acc: 0.6762 - val_loss: 0.8363 - val_acc: 0.6585\n",
      "Epoch 7/30\n",
      "36000/36000 [==============================] - 1s 36us/step - loss: 0.7783 - acc: 0.6826 - val_loss: 0.8262 - val_acc: 0.6627\n",
      "Epoch 8/30\n",
      "36000/36000 [==============================] - 1s 37us/step - loss: 0.7703 - acc: 0.6869 - val_loss: 0.8263 - val_acc: 0.6570\n",
      "Epoch 9/30\n",
      "36000/36000 [==============================] - 1s 39us/step - loss: 0.7578 - acc: 0.6945 - val_loss: 0.8332 - val_acc: 0.6582\n",
      "Epoch 10/30\n",
      "36000/36000 [==============================] - 1s 39us/step - loss: 0.7477 - acc: 0.6963 - val_loss: 0.8212 - val_acc: 0.6622\n",
      "Epoch 11/30\n",
      "36000/36000 [==============================] - 1s 41us/step - loss: 0.7380 - acc: 0.7015 - val_loss: 0.8202 - val_acc: 0.6643\n",
      "Epoch 12/30\n",
      "36000/36000 [==============================] - 1s 37us/step - loss: 0.7258 - acc: 0.7038 - val_loss: 0.8279 - val_acc: 0.6702\n",
      "Epoch 13/30\n",
      "36000/36000 [==============================] - 1s 37us/step - loss: 0.7168 - acc: 0.7096 - val_loss: 0.8164 - val_acc: 0.6692\n",
      "Epoch 14/30\n",
      "36000/36000 [==============================] - 1s 37us/step - loss: 0.7067 - acc: 0.7152 - val_loss: 0.8270 - val_acc: 0.6675\n",
      "Epoch 15/30\n",
      "36000/36000 [==============================] - 1s 41us/step - loss: 0.6986 - acc: 0.7188 - val_loss: 0.8141 - val_acc: 0.6675\n",
      "Epoch 16/30\n",
      "36000/36000 [==============================] - 1s 37us/step - loss: 0.6886 - acc: 0.7209 - val_loss: 0.8273 - val_acc: 0.6692\n",
      "Epoch 17/30\n",
      "36000/36000 [==============================] - 1s 41us/step - loss: 0.6832 - acc: 0.7210 - val_loss: 0.8248 - val_acc: 0.6685\n",
      "Epoch 18/30\n",
      "36000/36000 [==============================] - 1s 41us/step - loss: 0.6720 - acc: 0.7280 - val_loss: 0.8313 - val_acc: 0.6685\n",
      "Epoch 19/30\n",
      "36000/36000 [==============================] - 2s 43us/step - loss: 0.6653 - acc: 0.7309 - val_loss: 0.8271 - val_acc: 0.6610\n",
      "Epoch 20/30\n",
      "36000/36000 [==============================] - 2s 42us/step - loss: 0.6577 - acc: 0.7349 - val_loss: 0.8419 - val_acc: 0.6612\n",
      "Epoch 21/30\n",
      "36000/36000 [==============================] - 1s 37us/step - loss: 0.6482 - acc: 0.7392 - val_loss: 0.8396 - val_acc: 0.6715\n",
      "Epoch 22/30\n",
      "36000/36000 [==============================] - 1s 37us/step - loss: 0.6413 - acc: 0.7406 - val_loss: 0.8388 - val_acc: 0.6670\n",
      "Epoch 23/30\n",
      "36000/36000 [==============================] - 1s 37us/step - loss: 0.6389 - acc: 0.7395 - val_loss: 0.8384 - val_acc: 0.6713\n",
      "Epoch 24/30\n",
      "36000/36000 [==============================] - 1s 41us/step - loss: 0.6291 - acc: 0.7454 - val_loss: 0.8388 - val_acc: 0.6720\n",
      "Epoch 25/30\n",
      "36000/36000 [==============================] - 1s 39us/step - loss: 0.6242 - acc: 0.7467 - val_loss: 0.8437 - val_acc: 0.6730\n",
      "Epoch 26/30\n",
      "36000/36000 [==============================] - 1s 41us/step - loss: 0.6189 - acc: 0.7464 - val_loss: 0.8504 - val_acc: 0.6720\n",
      "Epoch 27/30\n",
      "36000/36000 [==============================] - 1s 39us/step - loss: 0.6067 - acc: 0.7532 - val_loss: 0.8610 - val_acc: 0.6695\n",
      "Epoch 28/30\n",
      "36000/36000 [==============================] - 1s 37us/step - loss: 0.6050 - acc: 0.7553 - val_loss: 0.8662 - val_acc: 0.6628\n",
      "Epoch 29/30\n",
      "36000/36000 [==============================] - 1s 41us/step - loss: 0.5995 - acc: 0.7581 - val_loss: 0.8593 - val_acc: 0.6692\n",
      "Epoch 30/30\n",
      "36000/36000 [==============================] - 1s 40us/step - loss: 0.5969 - acc: 0.7567 - val_loss: 0.8681 - val_acc: 0.6695\n"
     ]
    },
    {
     "data": {
      "text/plain": [
       "<keras.callbacks.History at 0x7fbde2ffe278>"
      ]
     },
     "execution_count": 89,
     "metadata": {},
     "output_type": "execute_result"
    }
   ],
   "source": [
    "input_dim = len(train_vectors[0])\n",
    "output_dim = len(y_test_encode[0])\n",
    "\n",
    "nn_model = Sequential()\n",
    "nn_model.add(Dense(input_dim,input_dim = input_dim, activation = 'relu'))\n",
    "nn_model.add(Dropout(0.5))\n",
    "nn_model.add(Dense(600, activation = 'relu'))\n",
    "nn_model.add(Dropout(0.5))\n",
    "nn_model.add(Dense(300, activation = 'relu'))\n",
    "nn_model.add(Dense(output_dim, activation='softmax'))\n",
    "\n",
    "nn_model.compile(optimizer='adam', loss='categorical_crossentropy', metrics=['acc'])\n",
    "nn_model.summary()\n",
    "\n",
    "nn_model.fit(train_vectors,y_train_encode,epochs=30, batch_size=1000, validation_split= .1)"
   ]
  },
  {
   "cell_type": "code",
   "execution_count": 92,
   "metadata": {},
   "outputs": [
    {
     "data": {
      "text/plain": [
       "(array([[1212,  211,  216,  413,  124],\n",
       "        [ 187, 1464,  130,  130,   55],\n",
       "        [ 129,   97, 1227,  169,   27],\n",
       "        [ 446,  145,  302, 1195,  105],\n",
       "        [  89,   81,   62,  101, 1683]]), 0.6764804766012932)"
      ]
     },
     "execution_count": 92,
     "metadata": {},
     "output_type": "execute_result"
    }
   ],
   "source": [
    "nn_predictions = nn_model.predict_classes(test_vectors)\n",
    "confusion_matrix(nn_predictions, test['category'].replace(dic_enconde)),f1_score(nn_predictions, test['category'].replace(dic_enconde), average=\"weighted\")"
   ]
  },
  {
   "cell_type": "markdown",
   "metadata": {},
   "source": [
    "# Multiple classifier"
   ]
  },
  {
   "cell_type": "code",
   "execution_count": 105,
   "metadata": {},
   "outputs": [],
   "source": [
    "# join predictons train\n",
    "multinomial= clf.predict_proba(train_vectors)\n",
    "nn = nn_model.predict_proba(train_vectors)\n",
    "xgboost = clf_xgboost.predict_proba(train_vectors)"
   ]
  },
  {
   "cell_type": "code",
   "execution_count": 106,
   "metadata": {},
   "outputs": [],
   "source": [
    "concatenate_predictions= np.concatenate((multinomial,nn,xgboost), axis=1)"
   ]
  },
  {
   "cell_type": "code",
   "execution_count": 107,
   "metadata": {},
   "outputs": [],
   "source": [
    "clf_xgboost_boosting  = XGBClassifier(max_depth=5,\n",
    "                                      n_jobs=8,\n",
    "                                      n_estimators=200,\n",
    "                                      objective='multi:softmax').fit(concatenate_predictions, train['category'])"
   ]
  },
  {
   "cell_type": "code",
   "execution_count": 108,
   "metadata": {},
   "outputs": [],
   "source": [
    "# join prediction test\n",
    "multinomial_test= clf.predict_proba(test_vectors)\n",
    "nn_test = nn_model.predict_proba(test_vectors)\n",
    "xgboost_test = clf_xgboost.predict_proba(test_vectors)\n",
    "concatenate_predictions_test = np.concatenate((multinomial_test,nn_test,xgboost_test), axis=1)"
   ]
  },
  {
   "cell_type": "code",
   "execution_count": 109,
   "metadata": {},
   "outputs": [
    {
     "data": {
      "text/plain": [
       "(10000, 15)"
      ]
     },
     "execution_count": 109,
     "metadata": {},
     "output_type": "execute_result"
    }
   ],
   "source": [
    "concatenate_predictions_test.shape"
   ]
  },
  {
   "cell_type": "code",
   "execution_count": 110,
   "metadata": {},
   "outputs": [
    {
     "data": {
      "text/plain": [
       "(array([[1487,  179,  162,  214,   82],\n",
       "        [ 125, 1117,  250,  444,   97],\n",
       "        [ 154,  255, 1281,  190,   86],\n",
       "        [ 144,  355,  190, 1132,  100],\n",
       "        [  88,  102,   54,   83, 1629]]), 0.6651863847750071)"
      ]
     },
     "execution_count": 110,
     "metadata": {},
     "output_type": "execute_result"
    }
   ],
   "source": [
    "Xgboost_predictions_boosting = clf_xgboost_boosting.predict(concatenate_predictions_test)\n",
    "confusion_matrix(Xgboost_predictions_boosting, test['category']),f1_score(Xgboost_predictions_boosting,\n",
    "                                                                         test['category'],\n",
    "                                                                         average=\"weighted\")"
   ]
  },
  {
   "cell_type": "code",
   "execution_count": null,
   "metadata": {},
   "outputs": [],
   "source": []
  }
 ],
 "metadata": {
  "kernelspec": {
   "display_name": "Python 3",
   "language": "python",
   "name": "python3"
  },
  "language_info": {
   "codemirror_mode": {
    "name": "ipython",
    "version": 3
   },
   "file_extension": ".py",
   "mimetype": "text/x-python",
   "name": "python",
   "nbconvert_exporter": "python",
   "pygments_lexer": "ipython3",
   "version": "3.6.8"
  }
 },
 "nbformat": 4,
 "nbformat_minor": 2
}
